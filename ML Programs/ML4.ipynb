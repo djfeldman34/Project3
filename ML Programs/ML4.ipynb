{
 "cells": [
  {
   "cell_type": "code",
   "execution_count": 1,
   "metadata": {},
   "outputs": [],
   "source": [
    "from sklearn.feature_extraction.text import CountVectorizer\n",
    "import tensorflow"
   ]
  },
  {
   "cell_type": "code",
   "execution_count": 2,
   "metadata": {},
   "outputs": [],
   "source": [
    "import pandas as pd"
   ]
  },
  {
   "cell_type": "code",
   "execution_count": 3,
   "metadata": {},
   "outputs": [],
   "source": [
    "path = '../Datafiniti_Hotel_Reviews.csv'\n",
    "df = pd.read_csv(path)"
   ]
  },
  {
   "cell_type": "code",
   "execution_count": 4,
   "metadata": {},
   "outputs": [
    {
     "data": {
      "text/html": [
       "<div>\n",
       "<style scoped>\n",
       "    .dataframe tbody tr th:only-of-type {\n",
       "        vertical-align: middle;\n",
       "    }\n",
       "\n",
       "    .dataframe tbody tr th {\n",
       "        vertical-align: top;\n",
       "    }\n",
       "\n",
       "    .dataframe thead th {\n",
       "        text-align: right;\n",
       "    }\n",
       "</style>\n",
       "<table border=\"1\" class=\"dataframe\">\n",
       "  <thead>\n",
       "    <tr style=\"text-align: right;\">\n",
       "      <th></th>\n",
       "      <th>id</th>\n",
       "      <th>dateAdded</th>\n",
       "      <th>dateUpdated</th>\n",
       "      <th>address</th>\n",
       "      <th>categories</th>\n",
       "      <th>primaryCategories</th>\n",
       "      <th>city</th>\n",
       "      <th>country</th>\n",
       "      <th>keys</th>\n",
       "      <th>latitude</th>\n",
       "      <th>...</th>\n",
       "      <th>reviews.dateSeen</th>\n",
       "      <th>reviews.rating</th>\n",
       "      <th>reviews.sourceURLs</th>\n",
       "      <th>reviews.text</th>\n",
       "      <th>reviews.title</th>\n",
       "      <th>reviews.userCity</th>\n",
       "      <th>reviews.userProvince</th>\n",
       "      <th>reviews.username</th>\n",
       "      <th>sourceURLs</th>\n",
       "      <th>websites</th>\n",
       "    </tr>\n",
       "  </thead>\n",
       "  <tbody>\n",
       "    <tr>\n",
       "      <th>0</th>\n",
       "      <td>AVwc252WIN2L1WUfpqLP</td>\n",
       "      <td>2016-10-30T21:42:42Z</td>\n",
       "      <td>2018-09-10T21:06:27Z</td>\n",
       "      <td>5921 Valencia Cir</td>\n",
       "      <td>Hotels,Hotels and motels,Hotel and motel reser...</td>\n",
       "      <td>Accommodation &amp; Food Services</td>\n",
       "      <td>Rancho Santa Fe</td>\n",
       "      <td>US</td>\n",
       "      <td>us/ca/ranchosantafe/5921valenciacir/359754519</td>\n",
       "      <td>32.990959</td>\n",
       "      <td>...</td>\n",
       "      <td>2016-08-03T00:00:00Z,2016-07-26T00:00:00Z,2016...</td>\n",
       "      <td>5.0</td>\n",
       "      <td>https://www.hotels.com/hotel/125419/reviews%20/</td>\n",
       "      <td>Our experience at Rancho Valencia was absolute...</td>\n",
       "      <td>Best romantic vacation ever!!!!</td>\n",
       "      <td>NaN</td>\n",
       "      <td>NaN</td>\n",
       "      <td>Paula</td>\n",
       "      <td>http://www.hotels.com/ho125419/%25252525253Flo...</td>\n",
       "      <td>http://www.ranchovalencia.com</td>\n",
       "    </tr>\n",
       "    <tr>\n",
       "      <th>1</th>\n",
       "      <td>AVwc252WIN2L1WUfpqLP</td>\n",
       "      <td>2016-10-30T21:42:42Z</td>\n",
       "      <td>2018-09-10T21:06:27Z</td>\n",
       "      <td>5921 Valencia Cir</td>\n",
       "      <td>Hotels,Hotels and motels,Hotel and motel reser...</td>\n",
       "      <td>Accommodation &amp; Food Services</td>\n",
       "      <td>Rancho Santa Fe</td>\n",
       "      <td>US</td>\n",
       "      <td>us/ca/ranchosantafe/5921valenciacir/359754519</td>\n",
       "      <td>32.990959</td>\n",
       "      <td>...</td>\n",
       "      <td>2016-08-02T00:00:00Z,2016-08-26T00:00:00Z,2016...</td>\n",
       "      <td>5.0</td>\n",
       "      <td>https://www.hotels.com/hotel/125419/reviews%20/</td>\n",
       "      <td>Amazing place. Everyone was extremely warm and...</td>\n",
       "      <td>Sweet sweet serenity</td>\n",
       "      <td>NaN</td>\n",
       "      <td>NaN</td>\n",
       "      <td>D</td>\n",
       "      <td>http://www.hotels.com/ho125419/%25252525253Flo...</td>\n",
       "      <td>http://www.ranchovalencia.com</td>\n",
       "    </tr>\n",
       "    <tr>\n",
       "      <th>2</th>\n",
       "      <td>AVwc252WIN2L1WUfpqLP</td>\n",
       "      <td>2016-10-30T21:42:42Z</td>\n",
       "      <td>2018-09-10T21:06:27Z</td>\n",
       "      <td>5921 Valencia Cir</td>\n",
       "      <td>Hotels,Hotels and motels,Hotel and motel reser...</td>\n",
       "      <td>Accommodation &amp; Food Services</td>\n",
       "      <td>Rancho Santa Fe</td>\n",
       "      <td>US</td>\n",
       "      <td>us/ca/ranchosantafe/5921valenciacir/359754519</td>\n",
       "      <td>32.990959</td>\n",
       "      <td>...</td>\n",
       "      <td>2016-11-15T00:00:00Z,2016-08-23T00:00:00Z,2016...</td>\n",
       "      <td>5.0</td>\n",
       "      <td>https://www.hotels.com/hotel/125419/reviews%20/</td>\n",
       "      <td>We booked a 3 night stay at Rancho Valencia to...</td>\n",
       "      <td>Amazing Property and Experience</td>\n",
       "      <td>NaN</td>\n",
       "      <td>NaN</td>\n",
       "      <td>Ron</td>\n",
       "      <td>http://www.hotels.com/ho125419/%25252525253Flo...</td>\n",
       "      <td>http://www.ranchovalencia.com</td>\n",
       "    </tr>\n",
       "    <tr>\n",
       "      <th>3</th>\n",
       "      <td>AVwdOclqIN2L1WUfti38</td>\n",
       "      <td>2015-11-28T19:19:35Z</td>\n",
       "      <td>2018-09-10T21:06:16Z</td>\n",
       "      <td>7520 Teague Rd</td>\n",
       "      <td>Hotels,Hotels and motels,Travel agencies and b...</td>\n",
       "      <td>Accommodation &amp; Food Services</td>\n",
       "      <td>Hanover</td>\n",
       "      <td>US</td>\n",
       "      <td>us/md/hanover/7520teaguerd/-2043779672</td>\n",
       "      <td>39.155929</td>\n",
       "      <td>...</td>\n",
       "      <td>2016-05-21T00:00:00Z,2016-07-31T00:00:00Z</td>\n",
       "      <td>2.0</td>\n",
       "      <td>https://www.tripadvisor.com/Hotel_Review-g4118...</td>\n",
       "      <td>Currently in bed writing this for the past hr ...</td>\n",
       "      <td>Never again...beware, if you want sleep.</td>\n",
       "      <td>Richmond</td>\n",
       "      <td>VA</td>\n",
       "      <td>jaeem2016</td>\n",
       "      <td>http://www.yellowbook.com/profile/aloft-arunde...</td>\n",
       "      <td>http://www.starwoodhotels.com/alofthotels/prop...</td>\n",
       "    </tr>\n",
       "    <tr>\n",
       "      <th>4</th>\n",
       "      <td>AVwdOclqIN2L1WUfti38</td>\n",
       "      <td>2015-11-28T19:19:35Z</td>\n",
       "      <td>2018-09-10T21:06:16Z</td>\n",
       "      <td>7520 Teague Rd</td>\n",
       "      <td>Hotels,Hotels and motels,Travel agencies and b...</td>\n",
       "      <td>Accommodation &amp; Food Services</td>\n",
       "      <td>Hanover</td>\n",
       "      <td>US</td>\n",
       "      <td>us/md/hanover/7520teaguerd/-2043779672</td>\n",
       "      <td>39.155929</td>\n",
       "      <td>...</td>\n",
       "      <td>2016-07-31T00:00:00Z</td>\n",
       "      <td>5.0</td>\n",
       "      <td>https://www.tripadvisor.com/Hotel_Review-g4118...</td>\n",
       "      <td>I live in Md and the Aloft is my Home away fro...</td>\n",
       "      <td>ALWAYS GREAT STAY...</td>\n",
       "      <td>Laurel</td>\n",
       "      <td>MD</td>\n",
       "      <td>MamaNiaOne</td>\n",
       "      <td>http://www.yellowbook.com/profile/aloft-arunde...</td>\n",
       "      <td>http://www.starwoodhotels.com/alofthotels/prop...</td>\n",
       "    </tr>\n",
       "  </tbody>\n",
       "</table>\n",
       "<p>5 rows × 25 columns</p>\n",
       "</div>"
      ],
      "text/plain": [
       "                     id             dateAdded           dateUpdated  \\\n",
       "0  AVwc252WIN2L1WUfpqLP  2016-10-30T21:42:42Z  2018-09-10T21:06:27Z   \n",
       "1  AVwc252WIN2L1WUfpqLP  2016-10-30T21:42:42Z  2018-09-10T21:06:27Z   \n",
       "2  AVwc252WIN2L1WUfpqLP  2016-10-30T21:42:42Z  2018-09-10T21:06:27Z   \n",
       "3  AVwdOclqIN2L1WUfti38  2015-11-28T19:19:35Z  2018-09-10T21:06:16Z   \n",
       "4  AVwdOclqIN2L1WUfti38  2015-11-28T19:19:35Z  2018-09-10T21:06:16Z   \n",
       "\n",
       "             address                                         categories  \\\n",
       "0  5921 Valencia Cir  Hotels,Hotels and motels,Hotel and motel reser...   \n",
       "1  5921 Valencia Cir  Hotels,Hotels and motels,Hotel and motel reser...   \n",
       "2  5921 Valencia Cir  Hotels,Hotels and motels,Hotel and motel reser...   \n",
       "3     7520 Teague Rd  Hotels,Hotels and motels,Travel agencies and b...   \n",
       "4     7520 Teague Rd  Hotels,Hotels and motels,Travel agencies and b...   \n",
       "\n",
       "               primaryCategories             city country  \\\n",
       "0  Accommodation & Food Services  Rancho Santa Fe      US   \n",
       "1  Accommodation & Food Services  Rancho Santa Fe      US   \n",
       "2  Accommodation & Food Services  Rancho Santa Fe      US   \n",
       "3  Accommodation & Food Services          Hanover      US   \n",
       "4  Accommodation & Food Services          Hanover      US   \n",
       "\n",
       "                                            keys   latitude  ...  \\\n",
       "0  us/ca/ranchosantafe/5921valenciacir/359754519  32.990959  ...   \n",
       "1  us/ca/ranchosantafe/5921valenciacir/359754519  32.990959  ...   \n",
       "2  us/ca/ranchosantafe/5921valenciacir/359754519  32.990959  ...   \n",
       "3         us/md/hanover/7520teaguerd/-2043779672  39.155929  ...   \n",
       "4         us/md/hanover/7520teaguerd/-2043779672  39.155929  ...   \n",
       "\n",
       "                                    reviews.dateSeen reviews.rating  \\\n",
       "0  2016-08-03T00:00:00Z,2016-07-26T00:00:00Z,2016...            5.0   \n",
       "1  2016-08-02T00:00:00Z,2016-08-26T00:00:00Z,2016...            5.0   \n",
       "2  2016-11-15T00:00:00Z,2016-08-23T00:00:00Z,2016...            5.0   \n",
       "3          2016-05-21T00:00:00Z,2016-07-31T00:00:00Z            2.0   \n",
       "4                               2016-07-31T00:00:00Z            5.0   \n",
       "\n",
       "                                  reviews.sourceURLs  \\\n",
       "0    https://www.hotels.com/hotel/125419/reviews%20/   \n",
       "1    https://www.hotels.com/hotel/125419/reviews%20/   \n",
       "2    https://www.hotels.com/hotel/125419/reviews%20/   \n",
       "3  https://www.tripadvisor.com/Hotel_Review-g4118...   \n",
       "4  https://www.tripadvisor.com/Hotel_Review-g4118...   \n",
       "\n",
       "                                        reviews.text  \\\n",
       "0  Our experience at Rancho Valencia was absolute...   \n",
       "1  Amazing place. Everyone was extremely warm and...   \n",
       "2  We booked a 3 night stay at Rancho Valencia to...   \n",
       "3  Currently in bed writing this for the past hr ...   \n",
       "4  I live in Md and the Aloft is my Home away fro...   \n",
       "\n",
       "                              reviews.title reviews.userCity  \\\n",
       "0           Best romantic vacation ever!!!!              NaN   \n",
       "1                      Sweet sweet serenity              NaN   \n",
       "2           Amazing Property and Experience              NaN   \n",
       "3  Never again...beware, if you want sleep.         Richmond   \n",
       "4                      ALWAYS GREAT STAY...           Laurel   \n",
       "\n",
       "   reviews.userProvince reviews.username  \\\n",
       "0                   NaN            Paula   \n",
       "1                   NaN                D   \n",
       "2                   NaN              Ron   \n",
       "3                    VA        jaeem2016   \n",
       "4                    MD       MamaNiaOne   \n",
       "\n",
       "                                          sourceURLs  \\\n",
       "0  http://www.hotels.com/ho125419/%25252525253Flo...   \n",
       "1  http://www.hotels.com/ho125419/%25252525253Flo...   \n",
       "2  http://www.hotels.com/ho125419/%25252525253Flo...   \n",
       "3  http://www.yellowbook.com/profile/aloft-arunde...   \n",
       "4  http://www.yellowbook.com/profile/aloft-arunde...   \n",
       "\n",
       "                                            websites  \n",
       "0                      http://www.ranchovalencia.com  \n",
       "1                      http://www.ranchovalencia.com  \n",
       "2                      http://www.ranchovalencia.com  \n",
       "3  http://www.starwoodhotels.com/alofthotels/prop...  \n",
       "4  http://www.starwoodhotels.com/alofthotels/prop...  \n",
       "\n",
       "[5 rows x 25 columns]"
      ]
     },
     "execution_count": 4,
     "metadata": {},
     "output_type": "execute_result"
    }
   ],
   "source": [
    "df.head()"
   ]
  },
  {
   "cell_type": "code",
   "execution_count": 5,
   "metadata": {},
   "outputs": [],
   "source": [
    "df2 = df[['reviews.rating' ,'reviews.text']]"
   ]
  },
  {
   "cell_type": "code",
   "execution_count": 6,
   "metadata": {},
   "outputs": [
    {
     "data": {
      "text/plain": [
       "0       5.0\n",
       "1       5.0\n",
       "2       5.0\n",
       "3       2.0\n",
       "4       5.0\n",
       "       ... \n",
       "9995    3.0\n",
       "9996    4.0\n",
       "9997    4.0\n",
       "9998    1.0\n",
       "9999    1.0\n",
       "Name: reviews.rating, Length: 10000, dtype: float64"
      ]
     },
     "execution_count": 6,
     "metadata": {},
     "output_type": "execute_result"
    }
   ],
   "source": [
    "df2['reviews.rating']"
   ]
  },
  {
   "cell_type": "code",
   "execution_count": 7,
   "metadata": {},
   "outputs": [],
   "source": [
    "vectorizer = CountVectorizer()"
   ]
  },
  {
   "cell_type": "code",
   "execution_count": 8,
   "metadata": {},
   "outputs": [],
   "source": [
    "poop = list(df2['reviews.text'].values.astype('str'))"
   ]
  },
  {
   "cell_type": "code",
   "execution_count": 9,
   "metadata": {},
   "outputs": [
    {
     "name": "stderr",
     "output_type": "stream",
     "text": [
      "C:\\Users\\DJ\\Anaconda3\\envs\\PythonData\\lib\\site-packages\\ipykernel_launcher.py:1: SettingWithCopyWarning: \n",
      "A value is trying to be set on a copy of a slice from a DataFrame.\n",
      "Try using .loc[row_indexer,col_indexer] = value instead\n",
      "\n",
      "See the caveats in the documentation: http://pandas.pydata.org/pandas-docs/stable/user_guide/indexing.html#returning-a-view-versus-a-copy\n",
      "  \"\"\"Entry point for launching an IPython kernel.\n"
     ]
    }
   ],
   "source": [
    "df2['reviews.rating'] = df2['reviews.rating']*100"
   ]
  },
  {
   "cell_type": "code",
   "execution_count": 10,
   "metadata": {},
   "outputs": [
    {
     "name": "stderr",
     "output_type": "stream",
     "text": [
      "C:\\Users\\DJ\\Anaconda3\\envs\\PythonData\\lib\\site-packages\\ipykernel_launcher.py:3: SettingWithCopyWarning: \n",
      "A value is trying to be set on a copy of a slice from a DataFrame\n",
      "\n",
      "See the caveats in the documentation: http://pandas.pydata.org/pandas-docs/stable/user_guide/indexing.html#returning-a-view-versus-a-copy\n",
      "  This is separate from the ipykernel package so we can avoid doing imports until\n",
      "C:\\Users\\DJ\\Anaconda3\\envs\\PythonData\\lib\\site-packages\\IPython\\core\\interactiveshell.py:3326: SettingWithCopyWarning: \n",
      "A value is trying to be set on a copy of a slice from a DataFrame\n",
      "\n",
      "See the caveats in the documentation: http://pandas.pydata.org/pandas-docs/stable/user_guide/indexing.html#returning-a-view-versus-a-copy\n",
      "  exec(code_obj, self.user_global_ns, self.user_ns)\n",
      "C:\\Users\\DJ\\Anaconda3\\envs\\PythonData\\lib\\site-packages\\ipykernel_launcher.py:5: SettingWithCopyWarning: \n",
      "A value is trying to be set on a copy of a slice from a DataFrame\n",
      "\n",
      "See the caveats in the documentation: http://pandas.pydata.org/pandas-docs/stable/user_guide/indexing.html#returning-a-view-versus-a-copy\n",
      "  \"\"\"\n",
      "C:\\Users\\DJ\\Anaconda3\\envs\\PythonData\\lib\\site-packages\\ipykernel_launcher.py:7: SettingWithCopyWarning: \n",
      "A value is trying to be set on a copy of a slice from a DataFrame\n",
      "\n",
      "See the caveats in the documentation: http://pandas.pydata.org/pandas-docs/stable/user_guide/indexing.html#returning-a-view-versus-a-copy\n",
      "  import sys\n"
     ]
    }
   ],
   "source": [
    "for row in range(len(df2)):\n",
    "    if df2['reviews.rating'][row] >= 400:\n",
    "        df2['reviews.rating'][row] = 1\n",
    "    elif df2['reviews.rating'][row] <= 200:\n",
    "        df2['reviews.rating'][row] = 0\n",
    "    else:\n",
    "        df2['reviews.rating'][row] = 2"
   ]
  },
  {
   "cell_type": "code",
   "execution_count": 11,
   "metadata": {},
   "outputs": [],
   "source": [
    "target1 = list(df2['reviews.rating'].values.astype('int'))"
   ]
  },
  {
   "cell_type": "code",
   "execution_count": 12,
   "metadata": {},
   "outputs": [],
   "source": [
    "from sklearn.model_selection import train_test_split"
   ]
  },
  {
   "cell_type": "code",
   "execution_count": 13,
   "metadata": {},
   "outputs": [],
   "source": [
    "x_train, x_test, y_train, y_test = train_test_split(poop, target1, random_state=1)"
   ]
  },
  {
   "cell_type": "code",
   "execution_count": 14,
   "metadata": {},
   "outputs": [
    {
     "data": {
      "text/plain": [
       "7500"
      ]
     },
     "execution_count": 14,
     "metadata": {},
     "output_type": "execute_result"
    }
   ],
   "source": [
    "len(x_train)"
   ]
  },
  {
   "cell_type": "code",
   "execution_count": 15,
   "metadata": {},
   "outputs": [
    {
     "data": {
      "text/plain": [
       "2500"
      ]
     },
     "execution_count": 15,
     "metadata": {},
     "output_type": "execute_result"
    }
   ],
   "source": [
    "len(x_test)"
   ]
  },
  {
   "cell_type": "code",
   "execution_count": 16,
   "metadata": {},
   "outputs": [
    {
     "data": {
      "text/plain": [
       "array([[0., 1., 0.],\n",
       "       [0., 1., 0.],\n",
       "       [0., 1., 0.],\n",
       "       ...,\n",
       "       [0., 1., 0.],\n",
       "       [0., 1., 0.],\n",
       "       [0., 0., 1.]], dtype=float32)"
      ]
     },
     "execution_count": 16,
     "metadata": {},
     "output_type": "execute_result"
    }
   ],
   "source": [
    "from tensorflow.keras.utils import to_categorical\n",
    "y_train_categorical = to_categorical(y_train)\n",
    "y_test_categorical = to_categorical(y_test)\n",
    "y_train_categorical"
   ]
  },
  {
   "cell_type": "code",
   "execution_count": 17,
   "metadata": {},
   "outputs": [
    {
     "name": "stdout",
     "output_type": "stream",
     "text": [
      "  (0, 13840)\t2\n",
      "  (0, 12651)\t2\n",
      "  (0, 6528)\t1\n",
      "  (0, 918)\t2\n",
      "  (0, 13574)\t1\n",
      "  (0, 6026)\t2\n",
      "  (0, 12038)\t1\n",
      "  (0, 1214)\t1\n",
      "  (0, 12700)\t1\n",
      "  (0, 8334)\t2\n",
      "  (0, 7840)\t1\n",
      "  (0, 12791)\t1\n",
      "  (0, 13935)\t1\n",
      "  (0, 13657)\t1\n",
      "  (0, 4941)\t1\n",
      "  (0, 12592)\t1\n",
      "  (0, 8547)\t1\n",
      "  (0, 4699)\t1\n",
      "  (0, 3115)\t1\n",
      "  (0, 958)\t1\n",
      "  (0, 857)\t1\n",
      "  (0, 1611)\t1\n",
      "  (0, 13028)\t1\n",
      "  (0, 13882)\t1\n",
      "  (0, 6122)\t1\n",
      "  (0, 4716)\t1\n",
      "  (0, 6817)\t2\n",
      "  (0, 3118)\t1\n",
      "  (0, 5426)\t1\n",
      "  (0, 9822)\t1\n",
      "  (0, 1078)\t1\n",
      "  (0, 7018)\t1\n",
      "  (0, 10703)\t1\n",
      "  (0, 7565)\t1\n",
      "  (0, 3178)\t1\n",
      "  (0, 5287)\t1\n",
      "  (0, 13408)\t1\n",
      "  (0, 10255)\t1\n",
      "  (0, 6837)\t1\n",
      "  (0, 6164)\t1\n"
     ]
    }
   ],
   "source": [
    "x_train_counts = vectorizer.fit_transform(x_train)\n",
    "print(x_train_counts[1])"
   ]
  },
  {
   "cell_type": "code",
   "execution_count": 18,
   "metadata": {},
   "outputs": [
    {
     "data": {
      "text/plain": [
       "(7500, 14319)"
      ]
     },
     "execution_count": 18,
     "metadata": {},
     "output_type": "execute_result"
    }
   ],
   "source": [
    "x_train_counts.shape"
   ]
  },
  {
   "cell_type": "code",
   "execution_count": 19,
   "metadata": {},
   "outputs": [],
   "source": [
    "vectorizer.vocabulary_.get(u'algorithm')"
   ]
  },
  {
   "cell_type": "code",
   "execution_count": 20,
   "metadata": {},
   "outputs": [],
   "source": [
    "from sklearn.feature_extraction.text import TfidfTransformer"
   ]
  },
  {
   "cell_type": "code",
   "execution_count": 21,
   "metadata": {},
   "outputs": [],
   "source": [
    "tf_transformer = TfidfTransformer(use_idf=False).fit(x_train_counts)"
   ]
  },
  {
   "cell_type": "code",
   "execution_count": 22,
   "metadata": {},
   "outputs": [],
   "source": [
    "x_train_tf = tf_transformer.transform(x_train_counts)"
   ]
  },
  {
   "cell_type": "code",
   "execution_count": 23,
   "metadata": {},
   "outputs": [
    {
     "data": {
      "text/plain": [
       "(7500, 14319)"
      ]
     },
     "execution_count": 23,
     "metadata": {},
     "output_type": "execute_result"
    }
   ],
   "source": [
    "x_train_tf.shape"
   ]
  },
  {
   "cell_type": "code",
   "execution_count": 24,
   "metadata": {},
   "outputs": [],
   "source": [
    "x_test_counts = vectorizer.transform(x_test)"
   ]
  },
  {
   "cell_type": "code",
   "execution_count": 25,
   "metadata": {},
   "outputs": [],
   "source": [
    "x_test_tf = tf_transformer.transform(x_test_counts)"
   ]
  },
  {
   "cell_type": "code",
   "execution_count": 26,
   "metadata": {},
   "outputs": [],
   "source": [
    "from tensorflow.keras.models import Sequential\n",
    "\n",
    "model = Sequential()"
   ]
  },
  {
   "cell_type": "code",
   "execution_count": 27,
   "metadata": {},
   "outputs": [],
   "source": [
    "from tensorflow.keras.layers import Dense, Dropout, LSTM, SpatialDropout1D\n",
    "number_inputs = 14319\n",
    "number_hidden_nodes = 243\n",
    "model.add(Dense(units=number_hidden_nodes,\n",
    "                activation='relu', input_dim=number_inputs))\n",
    "model.add(Dropout(.2))"
   ]
  },
  {
   "cell_type": "code",
   "execution_count": 28,
   "metadata": {},
   "outputs": [],
   "source": [
    "number_classes = 3\n",
    "model.add(Dense(units=27, activation='relu'))\n",
    "model.add(Dropout(.2))\n",
    "model.add(Dense(units=number_classes, activation='softmax'))"
   ]
  },
  {
   "cell_type": "code",
   "execution_count": 29,
   "metadata": {},
   "outputs": [
    {
     "name": "stdout",
     "output_type": "stream",
     "text": [
      "Model: \"sequential\"\n",
      "_________________________________________________________________\n",
      "Layer (type)                 Output Shape              Param #   \n",
      "=================================================================\n",
      "dense (Dense)                (None, 243)               3479760   \n",
      "_________________________________________________________________\n",
      "dropout (Dropout)            (None, 243)               0         \n",
      "_________________________________________________________________\n",
      "dense_1 (Dense)              (None, 27)                6588      \n",
      "_________________________________________________________________\n",
      "dropout_1 (Dropout)          (None, 27)                0         \n",
      "_________________________________________________________________\n",
      "dense_2 (Dense)              (None, 3)                 84        \n",
      "=================================================================\n",
      "Total params: 3,486,432\n",
      "Trainable params: 3,486,432\n",
      "Non-trainable params: 0\n",
      "_________________________________________________________________\n"
     ]
    }
   ],
   "source": [
    "model.summary()"
   ]
  },
  {
   "cell_type": "code",
   "execution_count": 30,
   "metadata": {},
   "outputs": [],
   "source": [
    "model.compile(optimizer='adagrad',\n",
    "              loss='categorical_crossentropy',\n",
    "              metrics=['accuracy'])"
   ]
  },
  {
   "cell_type": "code",
   "execution_count": 31,
   "metadata": {},
   "outputs": [
    {
     "name": "stdout",
     "output_type": "stream",
     "text": [
      "WARNING:tensorflow:Falling back from v2 loop because of error: Failed to find data adapter that can handle input: <class 'scipy.sparse.csr.csr_matrix'>, <class 'NoneType'>\n",
      "Train on 7500 samples\n",
      "Epoch 1/200\n",
      "7500/7500 - 10s - loss: 0.8063 - accuracy: 0.7268\n",
      "Epoch 2/200\n",
      "7500/7500 - 10s - loss: 0.7096 - accuracy: 0.7289\n",
      "Epoch 3/200\n",
      "7500/7500 - 10s - loss: 0.6681 - accuracy: 0.7289\n",
      "Epoch 4/200\n",
      "7500/7500 - 9s - loss: 0.6295 - accuracy: 0.7309\n",
      "Epoch 5/200\n",
      "7500/7500 - 9s - loss: 0.6003 - accuracy: 0.7392\n",
      "Epoch 6/200\n",
      "7500/7500 - 8s - loss: 0.5751 - accuracy: 0.7529\n",
      "Epoch 7/200\n",
      "7500/7500 - 8s - loss: 0.5539 - accuracy: 0.7619\n",
      "Epoch 8/200\n",
      "7500/7500 - 10s - loss: 0.5370 - accuracy: 0.7785\n",
      "Epoch 9/200\n",
      "7500/7500 - 8s - loss: 0.5215 - accuracy: 0.7859\n",
      "Epoch 10/200\n",
      "7500/7500 - 8s - loss: 0.5071 - accuracy: 0.7943\n",
      "Epoch 11/200\n",
      "7500/7500 - 8s - loss: 0.4953 - accuracy: 0.8007\n",
      "Epoch 12/200\n",
      "7500/7500 - 9s - loss: 0.4848 - accuracy: 0.8095\n",
      "Epoch 13/200\n",
      "7500/7500 - 8s - loss: 0.4734 - accuracy: 0.8153\n",
      "Epoch 14/200\n",
      "7500/7500 - 9s - loss: 0.4620 - accuracy: 0.8203\n",
      "Epoch 15/200\n",
      "7500/7500 - 8s - loss: 0.4558 - accuracy: 0.8277\n",
      "Epoch 16/200\n",
      "7500/7500 - 9s - loss: 0.4471 - accuracy: 0.8297\n",
      "Epoch 17/200\n",
      "7500/7500 - 8s - loss: 0.4409 - accuracy: 0.8363\n",
      "Epoch 18/200\n",
      "7500/7500 - 8s - loss: 0.4319 - accuracy: 0.8421\n",
      "Epoch 19/200\n",
      "7500/7500 - 9s - loss: 0.4244 - accuracy: 0.8415\n",
      "Epoch 20/200\n",
      "7500/7500 - 10s - loss: 0.4183 - accuracy: 0.8411\n",
      "Epoch 21/200\n",
      "7500/7500 - 9s - loss: 0.4142 - accuracy: 0.8467\n",
      "Epoch 22/200\n",
      "7500/7500 - 11s - loss: 0.4075 - accuracy: 0.8523\n",
      "Epoch 23/200\n",
      "7500/7500 - 10s - loss: 0.3999 - accuracy: 0.8517\n",
      "Epoch 24/200\n",
      "7500/7500 - 9s - loss: 0.3958 - accuracy: 0.8519\n",
      "Epoch 25/200\n",
      "7500/7500 - 10s - loss: 0.3933 - accuracy: 0.8536\n",
      "Epoch 26/200\n",
      "7500/7500 - 9s - loss: 0.3854 - accuracy: 0.8589\n",
      "Epoch 27/200\n",
      "7500/7500 - 8s - loss: 0.3796 - accuracy: 0.8637\n",
      "Epoch 28/200\n",
      "7500/7500 - 8s - loss: 0.3751 - accuracy: 0.8645\n",
      "Epoch 29/200\n",
      "7500/7500 - 8s - loss: 0.3702 - accuracy: 0.8679\n",
      "Epoch 30/200\n",
      "7500/7500 - 8s - loss: 0.3683 - accuracy: 0.8711\n",
      "Epoch 31/200\n",
      "7500/7500 - 8s - loss: 0.3617 - accuracy: 0.8705\n",
      "Epoch 32/200\n",
      "7500/7500 - 9s - loss: 0.3593 - accuracy: 0.8729\n",
      "Epoch 33/200\n",
      "7500/7500 - 9s - loss: 0.3555 - accuracy: 0.8735\n",
      "Epoch 34/200\n",
      "7500/7500 - 8s - loss: 0.3543 - accuracy: 0.8736\n",
      "Epoch 35/200\n",
      "7500/7500 - 10s - loss: 0.3490 - accuracy: 0.8775\n",
      "Epoch 36/200\n",
      "7500/7500 - 9s - loss: 0.3441 - accuracy: 0.8771\n",
      "Epoch 37/200\n",
      "7500/7500 - 9s - loss: 0.3422 - accuracy: 0.8789\n",
      "Epoch 38/200\n",
      "7500/7500 - 9s - loss: 0.3368 - accuracy: 0.8788\n",
      "Epoch 39/200\n",
      "7500/7500 - 10s - loss: 0.3344 - accuracy: 0.8819\n",
      "Epoch 40/200\n",
      "7500/7500 - 9s - loss: 0.3300 - accuracy: 0.8871\n",
      "Epoch 41/200\n",
      "7500/7500 - 9s - loss: 0.3282 - accuracy: 0.8869\n",
      "Epoch 42/200\n",
      "7500/7500 - 9s - loss: 0.3258 - accuracy: 0.8860\n",
      "Epoch 43/200\n",
      "7500/7500 - 8s - loss: 0.3221 - accuracy: 0.8840\n",
      "Epoch 44/200\n",
      "7500/7500 - 11s - loss: 0.3202 - accuracy: 0.8868\n",
      "Epoch 45/200\n",
      "7500/7500 - 9s - loss: 0.3139 - accuracy: 0.8903\n",
      "Epoch 46/200\n",
      "7500/7500 - 11s - loss: 0.3138 - accuracy: 0.8920\n",
      "Epoch 47/200\n",
      "7500/7500 - 8s - loss: 0.3121 - accuracy: 0.8896\n",
      "Epoch 48/200\n",
      "7500/7500 - 8s - loss: 0.3098 - accuracy: 0.8937\n",
      "Epoch 49/200\n",
      "7500/7500 - 10s - loss: 0.3012 - accuracy: 0.8985\n",
      "Epoch 50/200\n",
      "7500/7500 - 9s - loss: 0.3015 - accuracy: 0.8943\n",
      "Epoch 51/200\n",
      "7500/7500 - 9s - loss: 0.2975 - accuracy: 0.8955\n",
      "Epoch 52/200\n",
      "7500/7500 - 9s - loss: 0.2947 - accuracy: 0.9012\n",
      "Epoch 53/200\n",
      "7500/7500 - 9s - loss: 0.2927 - accuracy: 0.9036\n",
      "Epoch 54/200\n",
      "7500/7500 - 9s - loss: 0.2907 - accuracy: 0.9025\n",
      "Epoch 55/200\n",
      "7500/7500 - 9s - loss: 0.2894 - accuracy: 0.9035\n",
      "Epoch 56/200\n",
      "7500/7500 - 9s - loss: 0.2854 - accuracy: 0.9036\n",
      "Epoch 57/200\n",
      "7500/7500 - 8s - loss: 0.2803 - accuracy: 0.9085\n",
      "Epoch 58/200\n",
      "7500/7500 - 8s - loss: 0.2802 - accuracy: 0.9079\n",
      "Epoch 59/200\n",
      "7500/7500 - 8s - loss: 0.2809 - accuracy: 0.9091\n",
      "Epoch 60/200\n",
      "7500/7500 - 8s - loss: 0.2763 - accuracy: 0.9085\n",
      "Epoch 61/200\n",
      "7500/7500 - 8s - loss: 0.2748 - accuracy: 0.9060\n",
      "Epoch 62/200\n",
      "7500/7500 - 9s - loss: 0.2726 - accuracy: 0.9111\n",
      "Epoch 63/200\n",
      "7500/7500 - 9s - loss: 0.2700 - accuracy: 0.9092\n",
      "Epoch 64/200\n",
      "7500/7500 - 8s - loss: 0.2683 - accuracy: 0.9097\n",
      "Epoch 65/200\n",
      "7500/7500 - 10s - loss: 0.2637 - accuracy: 0.9137\n",
      "Epoch 66/200\n",
      "7500/7500 - 9s - loss: 0.2662 - accuracy: 0.9113\n",
      "Epoch 67/200\n",
      "7500/7500 - 9s - loss: 0.2625 - accuracy: 0.9116\n",
      "Epoch 68/200\n",
      "7500/7500 - 9s - loss: 0.2608 - accuracy: 0.9155\n",
      "Epoch 69/200\n",
      "7500/7500 - 8s - loss: 0.2602 - accuracy: 0.9136\n",
      "Epoch 70/200\n",
      "7500/7500 - 9s - loss: 0.2540 - accuracy: 0.9184\n",
      "Epoch 71/200\n",
      "7500/7500 - 8s - loss: 0.2554 - accuracy: 0.9152\n",
      "Epoch 72/200\n",
      "7500/7500 - 8s - loss: 0.2527 - accuracy: 0.9183\n",
      "Epoch 73/200\n",
      "7500/7500 - 8s - loss: 0.2512 - accuracy: 0.9183\n",
      "Epoch 74/200\n",
      "7500/7500 - 8s - loss: 0.2484 - accuracy: 0.9195\n",
      "Epoch 75/200\n",
      "7500/7500 - 8s - loss: 0.2482 - accuracy: 0.9239\n",
      "Epoch 76/200\n",
      "7500/7500 - 8s - loss: 0.2443 - accuracy: 0.9216\n",
      "Epoch 77/200\n",
      "7500/7500 - 9s - loss: 0.2417 - accuracy: 0.9213\n",
      "Epoch 78/200\n",
      "7500/7500 - 8s - loss: 0.2428 - accuracy: 0.9228\n",
      "Epoch 79/200\n",
      "7500/7500 - 9s - loss: 0.2402 - accuracy: 0.9215\n",
      "Epoch 80/200\n",
      "7500/7500 - 9s - loss: 0.2395 - accuracy: 0.9215\n",
      "Epoch 81/200\n",
      "7500/7500 - 9s - loss: 0.2360 - accuracy: 0.9261\n",
      "Epoch 82/200\n",
      "7500/7500 - 8s - loss: 0.2332 - accuracy: 0.9267\n",
      "Epoch 83/200\n",
      "7500/7500 - 8s - loss: 0.2323 - accuracy: 0.9260\n",
      "Epoch 84/200\n",
      "7500/7500 - 8s - loss: 0.2292 - accuracy: 0.9295\n",
      "Epoch 85/200\n",
      "7500/7500 - 9s - loss: 0.2308 - accuracy: 0.9256\n",
      "Epoch 86/200\n",
      "7500/7500 - 8s - loss: 0.2277 - accuracy: 0.9284\n",
      "Epoch 87/200\n",
      "7500/7500 - 9s - loss: 0.2264 - accuracy: 0.9287\n",
      "Epoch 88/200\n",
      "7500/7500 - 10s - loss: 0.2265 - accuracy: 0.9281\n",
      "Epoch 89/200\n",
      "7500/7500 - 8s - loss: 0.2276 - accuracy: 0.9279\n",
      "Epoch 90/200\n",
      "7500/7500 - 9s - loss: 0.2217 - accuracy: 0.9293\n",
      "Epoch 91/200\n",
      "7500/7500 - 8s - loss: 0.2210 - accuracy: 0.9317\n",
      "Epoch 92/200\n",
      "7500/7500 - 8s - loss: 0.2193 - accuracy: 0.9327\n",
      "Epoch 93/200\n",
      "7500/7500 - 8s - loss: 0.2167 - accuracy: 0.9364\n",
      "Epoch 94/200\n",
      "7500/7500 - 8s - loss: 0.2163 - accuracy: 0.9347\n",
      "Epoch 95/200\n",
      "7500/7500 - 8s - loss: 0.2148 - accuracy: 0.9341\n",
      "Epoch 96/200\n",
      "7500/7500 - 8s - loss: 0.2158 - accuracy: 0.9327\n",
      "Epoch 97/200\n",
      "7500/7500 - 9s - loss: 0.2161 - accuracy: 0.9332\n",
      "Epoch 98/200\n",
      "7500/7500 - 8s - loss: 0.2134 - accuracy: 0.9332\n",
      "Epoch 99/200\n",
      "7500/7500 - 9s - loss: 0.2092 - accuracy: 0.9389\n",
      "Epoch 100/200\n",
      "7500/7500 - 8s - loss: 0.2106 - accuracy: 0.9360\n",
      "Epoch 101/200\n",
      "7500/7500 - 9s - loss: 0.2068 - accuracy: 0.9377\n",
      "Epoch 102/200\n",
      "7500/7500 - 9s - loss: 0.2046 - accuracy: 0.9389\n",
      "Epoch 103/200\n",
      "7500/7500 - 9s - loss: 0.2021 - accuracy: 0.9408\n",
      "Epoch 104/200\n",
      "7500/7500 - 8s - loss: 0.2007 - accuracy: 0.9417\n",
      "Epoch 105/200\n",
      "7500/7500 - 8s - loss: 0.2015 - accuracy: 0.9387\n",
      "Epoch 106/200\n",
      "7500/7500 - 9s - loss: 0.1997 - accuracy: 0.9415\n",
      "Epoch 107/200\n",
      "7500/7500 - 8s - loss: 0.1990 - accuracy: 0.9387\n",
      "Epoch 108/200\n",
      "7500/7500 - 8s - loss: 0.1974 - accuracy: 0.9419\n",
      "Epoch 109/200\n",
      "7500/7500 - 9s - loss: 0.1959 - accuracy: 0.9425\n",
      "Epoch 110/200\n",
      "7500/7500 - 8s - loss: 0.1945 - accuracy: 0.9428\n",
      "Epoch 111/200\n",
      "7500/7500 - 8s - loss: 0.1933 - accuracy: 0.9432\n",
      "Epoch 112/200\n",
      "7500/7500 - 9s - loss: 0.1921 - accuracy: 0.9424\n",
      "Epoch 113/200\n",
      "7500/7500 - 10s - loss: 0.1894 - accuracy: 0.9439\n",
      "Epoch 114/200\n",
      "7500/7500 - 8s - loss: 0.1921 - accuracy: 0.9425\n",
      "Epoch 115/200\n",
      "7500/7500 - 8s - loss: 0.1905 - accuracy: 0.9427\n",
      "Epoch 116/200\n",
      "7500/7500 - 9s - loss: 0.1900 - accuracy: 0.9436\n",
      "Epoch 117/200\n",
      "7500/7500 - 9s - loss: 0.1872 - accuracy: 0.9455\n",
      "Epoch 118/200\n",
      "7500/7500 - 10s - loss: 0.1877 - accuracy: 0.9461\n",
      "Epoch 119/200\n",
      "7500/7500 - 8s - loss: 0.1814 - accuracy: 0.9481\n",
      "Epoch 120/200\n",
      "7500/7500 - 8s - loss: 0.1824 - accuracy: 0.9468\n",
      "Epoch 121/200\n",
      "7500/7500 - 8s - loss: 0.1797 - accuracy: 0.9468\n",
      "Epoch 122/200\n",
      "7500/7500 - 8s - loss: 0.1794 - accuracy: 0.9496\n",
      "Epoch 123/200\n",
      "7500/7500 - 8s - loss: 0.1825 - accuracy: 0.9449\n",
      "Epoch 124/200\n",
      "7500/7500 - 8s - loss: 0.1786 - accuracy: 0.9508\n",
      "Epoch 125/200\n",
      "7500/7500 - 8s - loss: 0.1781 - accuracy: 0.9476\n",
      "Epoch 126/200\n",
      "7500/7500 - 8s - loss: 0.1757 - accuracy: 0.9488\n",
      "Epoch 127/200\n",
      "7500/7500 - 8s - loss: 0.1752 - accuracy: 0.9497\n",
      "Epoch 128/200\n",
      "7500/7500 - 8s - loss: 0.1735 - accuracy: 0.9516\n",
      "Epoch 129/200\n",
      "7500/7500 - 8s - loss: 0.1721 - accuracy: 0.9519\n",
      "Epoch 130/200\n",
      "7500/7500 - 8s - loss: 0.1707 - accuracy: 0.9523\n",
      "Epoch 131/200\n",
      "7500/7500 - 8s - loss: 0.1734 - accuracy: 0.9491\n",
      "Epoch 132/200\n",
      "7500/7500 - 8s - loss: 0.1719 - accuracy: 0.9527\n",
      "Epoch 133/200\n",
      "7500/7500 - 8s - loss: 0.1697 - accuracy: 0.9531\n",
      "Epoch 134/200\n",
      "7500/7500 - 8s - loss: 0.1670 - accuracy: 0.9539\n",
      "Epoch 135/200\n",
      "7500/7500 - 8s - loss: 0.1683 - accuracy: 0.9509\n",
      "Epoch 136/200\n",
      "7500/7500 - 8s - loss: 0.1675 - accuracy: 0.9557\n",
      "Epoch 137/200\n",
      "7500/7500 - 8s - loss: 0.1680 - accuracy: 0.9549\n",
      "Epoch 138/200\n",
      "7500/7500 - 8s - loss: 0.1632 - accuracy: 0.9568\n",
      "Epoch 139/200\n",
      "7500/7500 - 8s - loss: 0.1641 - accuracy: 0.9535\n",
      "Epoch 140/200\n",
      "7500/7500 - 8s - loss: 0.1637 - accuracy: 0.9540\n",
      "Epoch 141/200\n",
      "7500/7500 - 8s - loss: 0.1603 - accuracy: 0.9573\n",
      "Epoch 142/200\n",
      "7500/7500 - 8s - loss: 0.1609 - accuracy: 0.9544\n",
      "Epoch 143/200\n",
      "7500/7500 - 8s - loss: 0.1602 - accuracy: 0.9561\n",
      "Epoch 144/200\n",
      "7500/7500 - 9s - loss: 0.1604 - accuracy: 0.9533\n",
      "Epoch 145/200\n",
      "7500/7500 - 8s - loss: 0.1577 - accuracy: 0.9567\n",
      "Epoch 146/200\n",
      "7500/7500 - 8s - loss: 0.1610 - accuracy: 0.9552\n",
      "Epoch 147/200\n",
      "7500/7500 - 8s - loss: 0.1565 - accuracy: 0.9568\n",
      "Epoch 148/200\n",
      "7500/7500 - 9s - loss: 0.1571 - accuracy: 0.9569\n",
      "Epoch 149/200\n",
      "7500/7500 - 8s - loss: 0.1545 - accuracy: 0.9592\n",
      "Epoch 150/200\n",
      "7500/7500 - 8s - loss: 0.1554 - accuracy: 0.9565\n",
      "Epoch 151/200\n",
      "7500/7500 - 9s - loss: 0.1538 - accuracy: 0.9581\n",
      "Epoch 152/200\n",
      "7500/7500 - 8s - loss: 0.1545 - accuracy: 0.9579\n",
      "Epoch 153/200\n",
      "7500/7500 - 8s - loss: 0.1521 - accuracy: 0.9587\n",
      "Epoch 154/200\n",
      "7500/7500 - 8s - loss: 0.1518 - accuracy: 0.9605\n",
      "Epoch 155/200\n",
      "7500/7500 - 8s - loss: 0.1516 - accuracy: 0.9595\n",
      "Epoch 156/200\n",
      "7500/7500 - 8s - loss: 0.1484 - accuracy: 0.9608\n",
      "Epoch 157/200\n",
      "7500/7500 - 8s - loss: 0.1495 - accuracy: 0.9597\n",
      "Epoch 158/200\n",
      "7500/7500 - 8s - loss: 0.1469 - accuracy: 0.9624\n",
      "Epoch 159/200\n",
      "7500/7500 - 8s - loss: 0.1488 - accuracy: 0.9588\n",
      "Epoch 160/200\n",
      "7500/7500 - 9s - loss: 0.1458 - accuracy: 0.9636\n",
      "Epoch 161/200\n",
      "7500/7500 - 8s - loss: 0.1439 - accuracy: 0.9628\n",
      "Epoch 162/200\n",
      "7500/7500 - 8s - loss: 0.1452 - accuracy: 0.9628\n",
      "Epoch 163/200\n",
      "7500/7500 - 8s - loss: 0.1455 - accuracy: 0.9621\n",
      "Epoch 164/200\n",
      "7500/7500 - 8s - loss: 0.1418 - accuracy: 0.9643\n",
      "Epoch 165/200\n",
      "7500/7500 - 8s - loss: 0.1411 - accuracy: 0.9648\n",
      "Epoch 166/200\n",
      "7500/7500 - 8s - loss: 0.1416 - accuracy: 0.9629\n",
      "Epoch 167/200\n",
      "7500/7500 - 8s - loss: 0.1411 - accuracy: 0.9637\n",
      "Epoch 168/200\n",
      "7500/7500 - 8s - loss: 0.1390 - accuracy: 0.9656\n",
      "Epoch 169/200\n",
      "7500/7500 - 8s - loss: 0.1372 - accuracy: 0.9645\n",
      "Epoch 170/200\n",
      "7500/7500 - 8s - loss: 0.1378 - accuracy: 0.9663\n",
      "Epoch 171/200\n",
      "7500/7500 - 9s - loss: 0.1367 - accuracy: 0.9659\n",
      "Epoch 172/200\n",
      "7500/7500 - 9s - loss: 0.1376 - accuracy: 0.9657\n",
      "Epoch 173/200\n",
      "7500/7500 - 9s - loss: 0.1378 - accuracy: 0.9663\n",
      "Epoch 174/200\n",
      "7500/7500 - 8s - loss: 0.1372 - accuracy: 0.9664\n",
      "Epoch 175/200\n",
      "7500/7500 - 9s - loss: 0.1357 - accuracy: 0.9653\n",
      "Epoch 176/200\n",
      "7500/7500 - 10s - loss: 0.1351 - accuracy: 0.9687\n",
      "Epoch 177/200\n",
      "7500/7500 - 8s - loss: 0.1344 - accuracy: 0.9645\n",
      "Epoch 178/200\n",
      "7500/7500 - 8s - loss: 0.1333 - accuracy: 0.9660\n",
      "Epoch 179/200\n",
      "7500/7500 - 9s - loss: 0.1314 - accuracy: 0.9680\n",
      "Epoch 180/200\n",
      "7500/7500 - 9s - loss: 0.1318 - accuracy: 0.9671\n",
      "Epoch 181/200\n",
      "7500/7500 - 9s - loss: 0.1315 - accuracy: 0.9679\n",
      "Epoch 182/200\n",
      "7500/7500 - 8s - loss: 0.1286 - accuracy: 0.9712\n",
      "Epoch 183/200\n",
      "7500/7500 - 9s - loss: 0.1283 - accuracy: 0.9684\n",
      "Epoch 184/200\n",
      "7500/7500 - 9s - loss: 0.1305 - accuracy: 0.9681\n",
      "Epoch 185/200\n",
      "7500/7500 - 9s - loss: 0.1303 - accuracy: 0.9683\n",
      "Epoch 186/200\n",
      "7500/7500 - 8s - loss: 0.1271 - accuracy: 0.9683\n",
      "Epoch 187/200\n",
      "7500/7500 - 8s - loss: 0.1271 - accuracy: 0.9691\n",
      "Epoch 188/200\n",
      "7500/7500 - 8s - loss: 0.1276 - accuracy: 0.9696\n",
      "Epoch 189/200\n",
      "7500/7500 - 8s - loss: 0.1256 - accuracy: 0.9704\n",
      "Epoch 190/200\n",
      "7500/7500 - 9s - loss: 0.1256 - accuracy: 0.9691\n",
      "Epoch 191/200\n",
      "7500/7500 - 8s - loss: 0.1256 - accuracy: 0.9701\n",
      "Epoch 192/200\n",
      "7500/7500 - 9s - loss: 0.1244 - accuracy: 0.9703\n",
      "Epoch 193/200\n",
      "7500/7500 - 9s - loss: 0.1233 - accuracy: 0.9701\n",
      "Epoch 194/200\n",
      "7500/7500 - 8s - loss: 0.1233 - accuracy: 0.9709\n",
      "Epoch 195/200\n",
      "7500/7500 - 8s - loss: 0.1224 - accuracy: 0.9711\n",
      "Epoch 196/200\n",
      "7500/7500 - 8s - loss: 0.1214 - accuracy: 0.9724\n",
      "Epoch 197/200\n",
      "7500/7500 - 8s - loss: 0.1184 - accuracy: 0.9739\n",
      "Epoch 198/200\n",
      "7500/7500 - 8s - loss: 0.1195 - accuracy: 0.9708\n",
      "Epoch 199/200\n",
      "7500/7500 - 8s - loss: 0.1180 - accuracy: 0.9731\n",
      "Epoch 200/200\n",
      "7500/7500 - 8s - loss: 0.1205 - accuracy: 0.9720\n"
     ]
    },
    {
     "data": {
      "text/plain": [
       "<tensorflow.python.keras.callbacks.History at 0x24881945518>"
      ]
     },
     "execution_count": 31,
     "metadata": {},
     "output_type": "execute_result"
    }
   ],
   "source": [
    "model.fit(\n",
    "    x_train_tf,\n",
    "    y_train_categorical,\n",
    "    epochs=200,\n",
    "    shuffle=True,\n",
    "    verbose=2\n",
    ")"
   ]
  },
  {
   "cell_type": "code",
   "execution_count": 32,
   "metadata": {},
   "outputs": [
    {
     "name": "stdout",
     "output_type": "stream",
     "text": [
      "WARNING:tensorflow:Falling back from v2 loop because of error: Failed to find data adapter that can handle input: <class 'scipy.sparse.csr.csr_matrix'>, <class 'NoneType'>\n",
      "2500/2500 - 1s - loss: 0.5874 - accuracy: 0.7964\n",
      "Loss: 0.5874188499450683, Accuracy: 0.7964000105857849\n"
     ]
    }
   ],
   "source": [
    "model_loss, model_accuracy = model.evaluate(\n",
    "    x_test_tf, y_test_categorical, verbose=2)\n",
    "print(f\"Loss: {model_loss}, Accuracy: {model_accuracy}\")"
   ]
  },
  {
   "cell_type": "code",
   "execution_count": 33,
   "metadata": {},
   "outputs": [
    {
     "name": "stdout",
     "output_type": "stream",
     "text": [
      "WARNING:tensorflow:Falling back from v2 loop because of error: Failed to find data adapter that can handle input: <class 'scipy.sparse.csr.csr_matrix'>, <class 'NoneType'>\n"
     ]
    }
   ],
   "source": [
    "from sklearn.metrics import confusion_matrix\n",
    "predd = model.predict(x_test_tf)"
   ]
  },
  {
   "cell_type": "code",
   "execution_count": 34,
   "metadata": {},
   "outputs": [],
   "source": [
    "tester = ['We will never ever want to see this movie again.  The acting was horrendous']"
   ]
  },
  {
   "cell_type": "code",
   "execution_count": 35,
   "metadata": {},
   "outputs": [],
   "source": [
    "tester_counts = vectorizer.transform(tester)"
   ]
  },
  {
   "cell_type": "code",
   "execution_count": 36,
   "metadata": {},
   "outputs": [],
   "source": [
    "tester_tf = tf_transformer.transform(tester_counts)"
   ]
  },
  {
   "cell_type": "code",
   "execution_count": 37,
   "metadata": {},
   "outputs": [
    {
     "name": "stdout",
     "output_type": "stream",
     "text": [
      "WARNING:tensorflow:Falling back from v2 loop because of error: Failed to find data adapter that can handle input: <class 'scipy.sparse.csr.csr_matrix'>, <class 'NoneType'>\n"
     ]
    }
   ],
   "source": [
    "predd2 = model.predict_classes(tester_tf)"
   ]
  },
  {
   "cell_type": "code",
   "execution_count": 38,
   "metadata": {},
   "outputs": [
    {
     "name": "stdout",
     "output_type": "stream",
     "text": [
      "WARNING:tensorflow:Falling back from v2 loop because of error: Failed to find data adapter that can handle input: <class 'scipy.sparse.csr.csr_matrix'>, <class 'NoneType'>\n"
     ]
    }
   ],
   "source": [
    "predd3 = model.predict_classes(x_test_tf)"
   ]
  },
  {
   "cell_type": "code",
   "execution_count": 39,
   "metadata": {},
   "outputs": [
    {
     "data": {
      "text/plain": [
       "array([[ 177,   68,   54],\n",
       "       [  30, 1686,  102],\n",
       "       [  48,  207,  128]], dtype=int64)"
      ]
     },
     "execution_count": 39,
     "metadata": {},
     "output_type": "execute_result"
    }
   ],
   "source": [
    "confusion_matrix(y_test, predd3)"
   ]
  },
  {
   "cell_type": "code",
   "execution_count": 40,
   "metadata": {},
   "outputs": [],
   "source": [
    "from sklearn.metrics import classification_report"
   ]
  },
  {
   "cell_type": "code",
   "execution_count": 41,
   "metadata": {},
   "outputs": [
    {
     "name": "stdout",
     "output_type": "stream",
     "text": [
      "              precision    recall  f1-score   support\n",
      "\n",
      "           0       0.69      0.59      0.64       299\n",
      "           1       0.86      0.93      0.89      1818\n",
      "           2       0.45      0.33      0.38       383\n",
      "\n",
      "    accuracy                           0.80      2500\n",
      "   macro avg       0.67      0.62      0.64      2500\n",
      "weighted avg       0.78      0.80      0.78      2500\n",
      "\n"
     ]
    }
   ],
   "source": [
    "print(classification_report(y_test, predd3))"
   ]
  },
  {
   "cell_type": "code",
   "execution_count": 42,
   "metadata": {},
   "outputs": [
    {
     "name": "stdout",
     "output_type": "stream",
     "text": [
      "1961 255 284\n"
     ]
    }
   ],
   "source": [
    "negC = 0\n",
    "posC = 0\n",
    "neutC = 0\n",
    "\n",
    "for x in predd3:\n",
    "    if x == 0:\n",
    "        negC += 1\n",
    "    if x ==1:\n",
    "        posC += 1\n",
    "    if x == 2:\n",
    "        neutC += 1\n",
    "\n",
    "print(posC, negC, neutC)"
   ]
  },
  {
   "cell_type": "code",
   "execution_count": 43,
   "metadata": {},
   "outputs": [
    {
     "ename": "AttributeError",
     "evalue": "'Sequential' object has no attribute 'get_params'",
     "output_type": "error",
     "traceback": [
      "\u001b[1;31m---------------------------------------------------------------------------\u001b[0m",
      "\u001b[1;31mAttributeError\u001b[0m                            Traceback (most recent call last)",
      "\u001b[1;32m<ipython-input-43-fd07b2690ffe>\u001b[0m in \u001b[0;36m<module>\u001b[1;34m\u001b[0m\n\u001b[1;32m----> 1\u001b[1;33m \u001b[0mmodel\u001b[0m\u001b[1;33m.\u001b[0m\u001b[0mget_params\u001b[0m\u001b[1;33m\u001b[0m\u001b[1;33m\u001b[0m\u001b[0m\n\u001b[0m",
      "\u001b[1;31mAttributeError\u001b[0m: 'Sequential' object has no attribute 'get_params'"
     ]
    }
   ],
   "source": [
    "model.get_params"
   ]
  },
  {
   "cell_type": "code",
   "execution_count": null,
   "metadata": {},
   "outputs": [],
   "source": [
    "model.save('NNClassifier01.h5')"
   ]
  },
  {
   "cell_type": "code",
   "execution_count": null,
   "metadata": {},
   "outputs": [],
   "source": [
    "from sklearn.pipeline import Pipeline\n",
    "\n",
    "text_clf = Pipeline([\n",
    "    ('vect', vectorizer),\n",
    "    ('tfidf', tf_transformer),\n",
    "    ('clf', model)])"
   ]
  },
  {
   "cell_type": "code",
   "execution_count": null,
   "metadata": {},
   "outputs": [],
   "source": [
    "yoink = text_clf.predict(['I hate my job'])"
   ]
  },
  {
   "cell_type": "code",
   "execution_count": null,
   "metadata": {},
   "outputs": [],
   "source": [
    "from joblib import dump, load\n",
    "dump(text_clf, 'NNClassifier02.joblib')"
   ]
  },
  {
   "cell_type": "code",
   "execution_count": null,
   "metadata": {},
   "outputs": [],
   "source": [
    "yoink.predict_classes()"
   ]
  },
  {
   "cell_type": "code",
   "execution_count": null,
   "metadata": {},
   "outputs": [],
   "source": []
  },
  {
   "cell_type": "code",
   "execution_count": null,
   "metadata": {},
   "outputs": [],
   "source": []
  }
 ],
 "metadata": {
  "kernelspec": {
   "display_name": "Python 36 (PythonData)",
   "language": "python",
   "name": "pythondata"
  },
  "language_info": {
   "codemirror_mode": {
    "name": "ipython",
    "version": 3
   },
   "file_extension": ".py",
   "mimetype": "text/x-python",
   "name": "python",
   "nbconvert_exporter": "python",
   "pygments_lexer": "ipython3",
   "version": "3.6.8"
  }
 },
 "nbformat": 4,
 "nbformat_minor": 4
}
