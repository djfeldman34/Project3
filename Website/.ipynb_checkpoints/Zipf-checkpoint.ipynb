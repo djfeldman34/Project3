{
 "cells": [
  {
   "cell_type": "code",
   "execution_count": 11,
   "metadata": {},
   "outputs": [],
   "source": [
    "%matplotlib inline\n",
    "\n",
    "import matplotlib.pyplot as plt"
   ]
  },
  {
   "cell_type": "code",
   "execution_count": 16,
   "metadata": {},
   "outputs": [],
   "source": [
    "# tokenizes and strips the words\n",
    "def isit_zipf(data):\n",
    "    if type(data) == type(str()):\n",
    "        pif_zipf = data.split(' ')\n",
    "        zipf_pif = [x.strip('! ? . \" \" , ') for x in pif_zipf]\n",
    "        return list(zipf_pif)\n",
    "    else:\n",
    "        print('Strings only.... Sorry Im only a computer')\n",
    "# determines the frequency of the words in the data\n",
    "def tis_ques(wrds):\n",
    "    key_strts = {x:0 for x in wrds}\n",
    "    for z in key_strts.keys():\n",
    "        key_strts[z] = wrds.count(z)\n",
    "    plt.bar(key_strts.keys(), height=key_strts.values())\n",
    "    return plt.show()"
   ]
  },
  {
   "cell_type": "code",
   "execution_count": 17,
   "metadata": {},
   "outputs": [],
   "source": [
    "what = isit_zipf('I shit my pants one time when I was just a little lad and such of the sort.')"
   ]
  },
  {
   "cell_type": "code",
   "execution_count": 18,
   "metadata": {},
   "outputs": [
    {
     "data": {
      "image/png": "[encoded data removed]",
      "text/plain": [
       "<Figure size 432x288 with 1 Axes>"
      ]
     },
     "metadata": {
      "needs_background": "light"
     },
     "output_type": "display_data"
    }
   ],
   "source": [
    "tis_ques(what)"
   ]
  },
  {
   "cell_type": "code",
   "execution_count": null,
   "metadata": {},
   "outputs": [],
   "source": []
  }
 ],
 "metadata": {
  "kernelspec": {
   "display_name": "Python 36 (PythonData)",
   "language": "python",
   "name": "pythondata"
  },
  "language_info": {
   "codemirror_mode": {
    "name": "ipython",
    "version": 3
   },
   "file_extension": ".py",
   "mimetype": "text/x-python",
   "name": "python",
   "nbconvert_exporter": "python",
   "pygments_lexer": "ipython3",
   "version": "3.6.8"
  }
 },
 "nbformat": 4,
 "nbformat_minor": 4
}
