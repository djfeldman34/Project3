{
 "cells": [
  {
   "cell_type": "code",
   "execution_count": 5,
   "metadata": {},
   "outputs": [],
   "source": [
    "%matplotlib inline\n",
    "\n",
    "import matplotlib.pyplot as plt\n",
    "import pandas as pd"
   ]
  },
  {
   "cell_type": "code",
   "execution_count": 9,
   "metadata": {},
   "outputs": [],
   "source": [
    "# tokenizes and strips the words\n",
    "def isit_zipf(data):\n",
    "    if type(data) == type(str()):\n",
    "        pif_zipf = data.split(' ')\n",
    "        zipf_pif = [x.strip('! ? . \" \" , ') for x in pif_zipf]\n",
    "        return list(zipf_pif)\n",
    "    else:\n",
    "        print('Strings only.... Sorry Im only a computer')\n",
    "# determines the frequency of the words in the data\n",
    "def tis_ques(wrds):\n",
    "    key_strts = {x:0 for x in wrds}\n",
    "    for z in key_strts:\n",
    "        key_strts[z] = wrds.count(z)\n",
    "    key_strts = pd.DataFrame([key_strts.keys(), key_strts.values()]).T.sort_values(by=1, ascending=False)\n",
    "    plt.bar(key_strts[0], height=key_strts[1])\n",
    "    return print(f'Most frequent word in this instance is:\\n\\n\\t\\t \\\n",
    "    {key_strts[0].iloc[0]}: {key_strts[1].iloc[0]}\\n\\n') and plt.show()"
   ]
  },
  {
   "cell_type": "code",
   "execution_count": 10,
   "metadata": {},
   "outputs": [
    {
     "ename": "TypeError",
     "evalue": "isit_zipf() missing 1 required positional argument: 'data'",
     "output_type": "error",
     "traceback": [
      "\u001b[1;31m---------------------------------------------------------------------------\u001b[0m",
      "\u001b[1;31mTypeError\u001b[0m                                 Traceback (most recent call last)",
      "\u001b[1;32m<ipython-input-10-4cbc629ba6e2>\u001b[0m in \u001b[0;36m<module>\u001b[1;34m\u001b[0m\n\u001b[1;32m----> 1\u001b[1;33m \u001b[0mwhat\u001b[0m \u001b[1;33m=\u001b[0m \u001b[0misit_zipf\u001b[0m\u001b[1;33m(\u001b[0m\u001b[1;33m)\u001b[0m\u001b[1;33m\u001b[0m\u001b[1;33m\u001b[0m\u001b[0m\n\u001b[0m",
      "\u001b[1;31mTypeError\u001b[0m: isit_zipf() missing 1 required positional argument: 'data'"
     ]
    }
   ],
   "source": [
    "what = isit_zipf()"
   ]
  },
  {
   "cell_type": "code",
   "execution_count": 11,
   "metadata": {},
   "outputs": [
    {
     "name": "stdout",
     "output_type": "stream",
     "text": [
      "Most frequent word in this instance is:\n",
      "\n",
      "\t\t     a: 6\n",
      "\n",
      "\n"
     ]
    },
    {
     "data": {
      "image/png": "[encoded data removed]",
      "text/plain": [
       "<Figure size 432x288 with 1 Axes>"
      ]
     },
     "metadata": {
      "needs_background": "light"
     },
     "output_type": "display_data"
    }
   ],
   "source": [
    "tis_ques(what)"
   ]
  },
  {
   "cell_type": "code",
   "execution_count": null,
   "metadata": {},
   "outputs": [],
   "source": []
  }
 ],
 "metadata": {
  "kernelspec": {
   "display_name": "Python 36 (PythonData)",
   "language": "python",
   "name": "pythondata"
  },
  "language_info": {
   "codemirror_mode": {
    "name": "ipython",
    "version": 3
   },
   "file_extension": ".py",
   "mimetype": "text/x-python",
   "name": "python",
   "nbconvert_exporter": "python",
   "pygments_lexer": "ipython3",
   "version": "3.6.8"
  }
 },
 "nbformat": 4,
 "nbformat_minor": 4
}
